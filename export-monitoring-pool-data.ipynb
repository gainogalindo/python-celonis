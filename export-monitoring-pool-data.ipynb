# Export Monitoring Pool Data
## Import

import requests
import pandas as pd
import json
import pycelonis
import gc
import os
from pycelonis import get_celonis
from pycelonis.ems import ExportType
from pycelonis.pql import PQL, PQLColumn, PQLFilter, OrderByColumn
from pycelonis.utils.parquet import read_parquet
from tqdm.auto import tqdm
from concurrent.futures import ThreadPoolExecutor
from IPython.display import clear_output
